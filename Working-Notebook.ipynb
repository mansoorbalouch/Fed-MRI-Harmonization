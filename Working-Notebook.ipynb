{
 "cells": [
  {
   "cell_type": "code",
   "execution_count": 2,
   "metadata": {},
   "outputs": [],
   "source": [
    "import numpy as np"
   ]
  },
  {
   "cell_type": "code",
   "execution_count": 1,
   "metadata": {},
   "outputs": [],
   "source": [
    "\n",
    "def postmean(g_hat, g_bar, n, d_star, t2):\n",
    "    return (t2*n*g_hat+d_star * g_bar) / (t2*n+d_star)\n",
    "\n",
    "def postvar(sum2, n, a, b):\n",
    "    return (0.5 * sum2 + b) / (n / 2.0 + a - 1.0)"
   ]
  },
  {
   "cell_type": "code",
   "execution_count": 3,
   "metadata": {},
   "outputs": [],
   "source": [
    "\n",
    "def it_sol(sdat, g_hat, d_hat, g_bar, t2, a, b, conv=0.0001):\n",
    "    n = (1 - np.isnan(sdat)).sum(axis=1)\n",
    "    g_old = g_hat.copy()\n",
    "    d_old = d_hat.copy()\n",
    "\n",
    "    change = 1\n",
    "    count = 0\n",
    "    while change > conv:\n",
    "        g_new = postmean(g_hat, g_bar, n, d_old, t2)\n",
    "        sum2 = ((sdat - np.dot(g_new.reshape((g_new.shape[0], 1)), np.ones((1, sdat.shape[1])))) ** 2).sum(axis=1)\n",
    "        d_new = postvar(sum2, n, a, b)\n",
    "\n",
    "        change = max((abs(g_new - g_old) / g_old).max(), (abs(d_new - d_old) / d_old).max())\n",
    "        g_old = g_new #.copy()\n",
    "        d_old = d_new #.copy()\n",
    "        count = count + 1\n",
    "    adjust = (g_new, d_new)\n",
    "    return adjust "
   ]
  },
  {
   "cell_type": "code",
   "execution_count": 4,
   "metadata": {},
   "outputs": [],
   "source": [
    "def aprior(gamma_hat):\n",
    "    m = np.mean(gamma_hat)\n",
    "    s2 = np.var(gamma_hat,ddof=1)\n",
    "    return (2 * s2 +m**2) / float(s2) \n",
    "\n",
    "def bprior(gamma_hat):\n",
    "    m = gamma_hat.mean()\n",
    "    s2 = np.var(gamma_hat,ddof=1)\n",
    "    return (m*s2+m**3)/s2"
   ]
  },
  {
   "cell_type": "code",
   "execution_count": null,
   "metadata": {},
   "outputs": [],
   "source": [
    "y_1f1=np.array([10,12,13,11.2,16])\n",
    "y_1f2=np.array([110,112,113,111.2,116])\n",
    "\n",
    "g_hat_f1 = np.mean(y_1f1)\n",
    "d_hat_f1 = np.var(y_1f1)\n",
    "\n",
    "g_hat_f2 = np.mean(y_1f2)\n",
    "d_hat_f2 = np.var(y_1f2)\n",
    "\n",
    "g_bar = np.mean([g_hat_f1,g_hat_f2])\n",
    "t2 = np.var([g_hat_f1,g_hat_f2])**2\n",
    "\n",
    "a_prior = list(map(aprior, delta_hat))\n",
    "b_prior = list(map(bprior, delta_hat))\n",
    "\n",
    "adjust = it_sol(y_1f1, d_hat_f1, g_bar, t2)"
   ]
  }
 ],
 "metadata": {
  "kernelspec": {
   "display_name": "Python 3",
   "language": "python",
   "name": "python3"
  },
  "language_info": {
   "codemirror_mode": {
    "name": "ipython",
    "version": 3
   },
   "file_extension": ".py",
   "mimetype": "text/x-python",
   "name": "python",
   "nbconvert_exporter": "python",
   "pygments_lexer": "ipython3",
   "version": "3.10.12"
  }
 },
 "nbformat": 4,
 "nbformat_minor": 2
}
